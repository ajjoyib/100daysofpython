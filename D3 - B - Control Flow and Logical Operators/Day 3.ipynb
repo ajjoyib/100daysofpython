{
 "cells": [
  {
   "cell_type": "markdown",
   "metadata": {},
   "source": [
    "35. [Interactive Coding Exercise] Pizza Order Practice"
   ]
  },
  {
   "cell_type": "code",
   "execution_count": 3,
   "metadata": {},
   "outputs": [
    {
     "name": "stdout",
     "output_type": "stream",
     "text": [
      "Welcome to Python Pizza Deliveries!\n",
      "You chose M sized pizza, with Y pepperoni and N extra cheese. And your bill is $23.\n"
     ]
    }
   ],
   "source": [
    "print(\"Welcome to Python Pizza Deliveries!\")\n",
    "size = input(\"What size pizza do you want? [S, M, L] \")\n",
    "add_pepperoni = input(\"Do you want pepperoni? [Y,N] \")\n",
    "extra_cheese = input(\"Do you want extra cheese? [Y,N] \")\n",
    "bill = 0\n",
    "\n",
    "if size == \"S\":\n",
    "    bill = 15\n",
    "elif size == \"M\":\n",
    "    bill = 20\n",
    "else: \n",
    "    bill = 25\n",
    "    \n",
    "if add_pepperoni == \"Y\":\n",
    "    if size == \"S\":\n",
    "        bill += 2\n",
    "    else:\n",
    "        bill += 3\n",
    "if extra_cheese == \"Y\":\n",
    "    bill += 1\n",
    "\n",
    "print(f\"You chose {size} sized pizza, with {add_pepperoni} pepperoni and {extra_cheese} extra cheese. And your bill is ${bill}.\")\n"
   ]
  },
  {
   "cell_type": "markdown",
   "metadata": {},
   "source": [
    "36. Logical Operatorss"
   ]
  },
  {
   "cell_type": "code",
   "execution_count": null,
   "metadata": {},
   "outputs": [],
   "source": [
    "print(\"Welcome to the roller coaster!\")\n",
    "height = int(input(\"Enter you height in cm... \"))\n",
    "\n",
    "if height >= 120:\n",
    "    print(\"You can ride the rollercoaster!\")\n",
    "    age = int(input(\"Enter your age... \"))\n",
    "    if age < 12:\n",
    "        bill = 5\n",
    "        print(f\"Child ticket is ${bill}.\")\n",
    "    elif age <=18:\n",
    "        bill = 7\n",
    "        print(f\"Youth ticket is ${bill}.\")\n",
    "    elif age >= 45 and age <= 55:\n",
    "        print(\"Everything is going to be ok. Have a free ride on us!\")\n",
    "    else:\n",
    "        bill = 12\n",
    "        print(f\"Adult ticket is ${bill}.\")\n",
    "\n",
    "wants_photo = input(\"Do you want a photo taken? [Y/N] \")\n",
    "if wants_photo == \"Y\":\n",
    "    bill += "
   ]
  },
  {
   "cell_type": "markdown",
   "metadata": {},
   "source": [
    "37. [Interactive Coding Exercise] Love Calculator"
   ]
  },
  {
   "cell_type": "code",
   "execution_count": 9,
   "metadata": {},
   "outputs": [
    {
     "name": "stdout",
     "output_type": "stream",
     "text": [
      "Welcome to the Love Calculator!\n",
      "Your score is 53, you are alright together.\n",
      "<class 'int'>\n"
     ]
    }
   ],
   "source": [
    "print(\"Welcome to the Love Calculator!\")\n",
    "name1 = input(\"What is your name? \\n\")\n",
    "name2 = input(\"What is her name? \\n\")\n",
    "name = name1.lower() + name2.lower()\n",
    "\n",
    "\n",
    "t_oc = name.count(\"t\")\n",
    "r_oc = name.count(\"r\")\n",
    "u_oc = name.count(\"u\")\n",
    "e_oc = name.count(\"e\")\n",
    "l_oc = name.count(\"l\")\n",
    "o_oc = name.count(\"o\")\n",
    "v_oc = name.count(\"v\")\n",
    "\n",
    "true = t_oc + r_oc + u_oc + e_oc\n",
    "love = l_oc + o_oc + v_oc + e_oc\n",
    "\n",
    "love_score = int(str(true) + str(love))\n",
    "\n",
    "if love_score < 10 or love_score > 90:\n",
    "    print(f\"Your score is {love_score}, you go together like coke and mentos.\")\n",
    "elif love_score > 40 and love_score > 50:\n",
    "    print(f\"Your score is {love_score}, you are alright together.\")\n",
    "else:\n",
    "    print(f\"Your score is {love_score}.\")\n",
    "\n",
    "print(type(love_score))\n"
   ]
  },
  {
   "cell_type": "markdown",
   "metadata": {},
   "source": [
    "38. Day 3 Project: Treasure Island"
   ]
  },
  {
   "cell_type": "code",
   "execution_count": 14,
   "metadata": {},
   "outputs": [
    {
     "name": "stdout",
     "output_type": "stream",
     "text": [
      "\n",
      "*******************************************************************************\n",
      "          |                   |                  |                     |\n",
      " _________|________________.=\"\"_;=.______________|_____________________|_______\n",
      "|                   |  ,-\"_,=\"\"     `\"=.|                  |\n",
      "|___________________|__\"=._o`\"-._        `\"=.______________|___________________\n",
      "          |                `\"=._o`\"=._      _`\"=._                     |\n",
      " _________|_____________________:=._o \"=._.\"_.-=\"'\"=.__________________|_______\n",
      "|                   |    __.--\" , ; `\"=._o.\" ,-\"\"\"-._ \".   |\n",
      "|___________________|_._\"  ,. .` ` `` ,  `\"-._\"-._   \". '__|___________________\n",
      "          |           |o`\"=._` , \"` `; .\". ,  \"-._\"-._; ;              |\n",
      " _________|___________| ;`-.o`\"=._; .\" ` '`.\"\\` . \"-._ /_______________|_______\n",
      "|                   | |o;    `\"-.o`\"=._``  '` \" ,__.--o;   |\n",
      "|___________________|_| ;     (#) `-.o `\"=.`_.--\"_o.-; ;___|___________________\n",
      "____/______/______/___|o;._    \"      `\".o|o_.--\"    ;o;____/______/______/____\n",
      "/______/______/______/_\"=._o--._        ; | ;        ; ;/______/______/______/_\n",
      "____/______/______/______/__\"=._o--._   ;o|o;     _._;o;____/______/______/____\n",
      "/______/______/______/______/____\"=._o._; | ;_.--\"o.--\"_/______/______/______/_\n",
      "____/______/______/______/______/_____\"=.o|o_.--\"\"___/______/______/______/____\n",
      "/______/______/______/______/______/______/______/______/______/______/_____ /\n",
      "*******************************************************************************\n",
      "\n",
      "Welcome to Treasure Island.\n",
      "Your mission is to find the treasure.\n",
      "YOU WON!\n"
     ]
    }
   ],
   "source": [
    "print('''\n",
    "*******************************************************************************\n",
    "          |                   |                  |                     |\n",
    " _________|________________.=\"\"_;=.______________|_____________________|_______\n",
    "|                   |  ,-\"_,=\"\"     `\"=.|                  |\n",
    "|___________________|__\"=._o`\"-._        `\"=.______________|___________________\n",
    "          |                `\"=._o`\"=._      _`\"=._                     |\n",
    " _________|_____________________:=._o \"=._.\"_.-=\"'\"=.__________________|_______\n",
    "|                   |    __.--\" , ; `\"=._o.\" ,-\"\"\"-._ \".   |\n",
    "|___________________|_._\"  ,. .` ` `` ,  `\"-._\"-._   \". '__|___________________\n",
    "          |           |o`\"=._` , \"` `; .\". ,  \"-._\"-._; ;              |\n",
    " _________|___________| ;`-.o`\"=._; .\" ` '`.\"\\` . \"-._ /_______________|_______\n",
    "|                   | |o;    `\"-.o`\"=._``  '` \" ,__.--o;   |\n",
    "|___________________|_| ;     (#) `-.o `\"=.`_.--\"_o.-; ;___|___________________\n",
    "____/______/______/___|o;._    \"      `\".o|o_.--\"    ;o;____/______/______/____\n",
    "/______/______/______/_\"=._o--._        ; | ;        ; ;/______/______/______/_\n",
    "____/______/______/______/__\"=._o--._   ;o|o;     _._;o;____/______/______/____\n",
    "/______/______/______/______/____\"=._o._; | ;_.--\"o.--\"_/______/______/______/_\n",
    "____/______/______/______/______/_____\"=.o|o_.--\"\"___/______/______/______/____\n",
    "/______/______/______/______/______/______/______/______/______/______/_____ /\n",
    "*******************************************************************************\n",
    "''')\n",
    "print(\"Welcome to Treasure Island.\")\n",
    "print(\"Your mission is to find the treasure.\") \n",
    "\n",
    "choice1 = input(\"You're at a cross road. Where do you want to go? Type 'left' or 'right'.\").lower()\n",
    "if choice1 == \"left\":\n",
    "    choice2 = input(\"GOOD JOB! \\n You're in front of a lake. There is an island in the middle fo the lake. Type 'wait' to wait for a boat. Type 'swim' to swim across.\").lower()\n",
    "    if choice2 == \"wait\":\n",
    "        choice3 = input(\"GOOD JOB \\n There is three doors in front of you: 'red', 'blue', 'yellow'. Which door do you want to choose?\").lower()\n",
    "        if choice3 == 'yellow':\n",
    "            print(\"YOU WON!\")\n",
    "        elif choice3 == 'red':\n",
    "            print(\"You got burned by fire. \\n GAME OVER\")\n",
    "        elif choice3 == 'blue':\n",
    "            print(\"You got eaten by beasts. \\n GAME OVER\")\n",
    "        else:\n",
    "            print(\"GAME OVER\")\n",
    "    else:\n",
    "        print(\"You have been attacked by a trout. GAME OVER\")\n",
    "else:\n",
    "    print(\"You fell into a hole. GAME OVER.\")\n"
   ]
  }
 ],
 "metadata": {
  "kernelspec": {
   "display_name": "Python 3.10.6 64-bit",
   "language": "python",
   "name": "python3"
  },
  "language_info": {
   "codemirror_mode": {
    "name": "ipython",
    "version": 3
   },
   "file_extension": ".py",
   "mimetype": "text/x-python",
   "name": "python",
   "nbconvert_exporter": "python",
   "pygments_lexer": "ipython3",
   "version": "3.10.6"
  },
  "orig_nbformat": 4,
  "vscode": {
   "interpreter": {
    "hash": "027efd7095115064582efab50921964d678032cf36f1ec215c675cf4ffc5e6b9"
   }
  }
 },
 "nbformat": 4,
 "nbformat_minor": 2
}
