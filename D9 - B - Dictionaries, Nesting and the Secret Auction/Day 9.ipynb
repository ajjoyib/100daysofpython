{
 "cells": [
  {
   "cell_type": "markdown",
   "metadata": {},
   "source": [
    "91. The Python Dictionary: Deep Dive"
   ]
  },
  {
   "cell_type": "code",
   "execution_count": 4,
   "metadata": {},
   "outputs": [
    {
     "name": "stdout",
     "output_type": "stream",
     "text": [
      "Bug\n",
      "An error in a program that prevents the program from running as expected.\n",
      "Function\n",
      "A piece of code that you can easily call over and over again.\n"
     ]
    }
   ],
   "source": [
    "programming_dictionary = {\n",
    "    \"Bug\": \"An error in a program that prevents the program from running as expected.\",\n",
    "    \"Function\": \"A piece of code that you can easily call over and over again.\",\n",
    "    }\n",
    "\n",
    "# Retrieving items from dictionary\n",
    "print(programming_dictionary[\"Bug\"])\n",
    "\n",
    "# Adding new items to dictionary\n",
    "programming_dictionary[\"Loop\"] = \"The action of doing something over and over again.\"\n",
    "print(programming_dictionary)\n",
    "\n",
    "# Creating empty dictionary\n",
    "empty_dictionary = {}\n",
    "\n",
    "# Wipe an existing dictionary\n",
    "# Useful when clear out the user's progress, or when a game restarts for points and stats will be wiped out\n",
    "programming_dictionary = {}\n",
    "print(programming_dictionary)\n",
    "\n",
    "# Edit an item in a dictionary\n",
    "programming_dictionary[\"Bug\"] = \"A moth in your computer\"\n",
    "\n",
    "# How to loop through a dictionary\n",
    "for key in programming_dictionary:\n",
    "    print(key)\n",
    "    print(programming_dictionary[key])"
   ]
  },
  {
   "cell_type": "markdown",
   "metadata": {},
   "source": [
    "92. [Interactive Coding Exercise] Grading Program"
   ]
  },
  {
   "cell_type": "code",
   "execution_count": null,
   "metadata": {},
   "outputs": [],
   "source": [
    "student_scores = {\n",
    "  \"Harry\": 81,\n",
    "  \"Ron\": 78,\n",
    "  \"Hermione\": 99, \n",
    "  \"Draco\": 74,\n",
    "  \"Neville\": 62,\n",
    "}\n",
    "# 🚨 Don't change the code above 👆\n",
    "\n",
    "\n",
    "#TODO-1: Create an empty dictionary called student_grades.\n",
    "student_grades = {}\n",
    "\n",
    "\n",
    "#TODO-2: Write your code below to add the grades to student_grades.👇\n",
    "for student in student_scores:\n",
    "  if student_scores[student] > 90:\n",
    "    grade = \"Outstanding\"\n",
    "  elif student_scores[student] > 80:\n",
    "    grade = \"Exceeds Expectations\"\n",
    "  elif student_scores[student] > 70:\n",
    "    grade = \"Acceptable\"\n",
    "  else:\n",
    "    grade = \"Fail\"\n",
    "  student_grades[student] = grade\n",
    "\n",
    "\n",
    "# 🚨 Don't change the code below 👇\n",
    "print(student_grades)"
   ]
  },
  {
   "cell_type": "markdown",
   "metadata": {},
   "source": [
    "93. Nesting Lists and Dictionaries"
   ]
  },
  {
   "cell_type": "code",
   "execution_count": null,
   "metadata": {},
   "outputs": [],
   "source": [
    "# Nesting\n",
    "capitals = {\n",
    "    \"France\": \"Paris\", \n",
    "    \"Germany\": \"Berlin\",\n",
    "}\n",
    "\n",
    "\n",
    "# Nesting a list in a Dictionary\n",
    "travel_log = {\n",
    "    \"France\": {\n",
    "        \"cities_visited\": [\"Paris\", \"Lille\", \"Dijon\"], \n",
    "        \"total_visits\": 12\n",
    "    },\n",
    "    \"Germany\": {\n",
    "        \"cities_visited\": [\"Berlin\", \"Hamburg\", \"Stuttgart\"], \n",
    "        \"total_visits\": 5\n",
    "    }\n",
    "}\n",
    "\n",
    "\n",
    "# Nesting a dictionary in a list\n",
    "travel_log = [\n",
    "    {\n",
    "        \"country\": \"France\", \n",
    "        \"cities_visited\": [\"Paris\", \"Lille\", \"Dijon\"], \n",
    "        \"total_visits\": 12\n",
    "    },\n",
    "    {\n",
    "        \"country\": \"Germany\", \n",
    "        \"cities_visited\": [\"Berlin\", \"Hamburg\", \"Stuttgart\"], \n",
    "        \"total_visits\": 5\n",
    "    }\n",
    "]\n"
   ]
  },
  {
   "cell_type": "markdown",
   "metadata": {},
   "source": [
    "94. [Interactive Coding Exercise] Dictionary in List"
   ]
  },
  {
   "cell_type": "code",
   "execution_count": 5,
   "metadata": {},
   "outputs": [
    {
     "name": "stdout",
     "output_type": "stream",
     "text": [
      "[{'country': 'France', 'visits': 12, 'cities': ['Paris', 'Lille', 'Dijon']}, {'country': 'Germany', 'visits': 5, 'cities': ['Berlin', 'Hamburg', 'Stuttgart']}, {'country': 'Russia', 'visits': 2, 'cities': ['Moscow', 'Saint Petersburg']}]\n"
     ]
    }
   ],
   "source": [
    "travel_log = [\n",
    "    {\n",
    "        \"country\": \"France\",\n",
    "        \"visits\": 12,\n",
    "        \"cities\": [\"Paris\", \"Lille\", \"Dijon\"]\n",
    "    },\n",
    "    {\n",
    "        \"country\": \"Germany\",\n",
    "        \"visits\": 5,\n",
    "        \"cities\": [\"Berlin\", \"Hamburg\", \"Stuttgart\"]\n",
    "    },\n",
    "]\n",
    "#🚨 Do NOT change the code above\n",
    "\n",
    "#TODO: Write the function that will allow new countries\n",
    "#to be added to the travel_log. 👇\n",
    "\n",
    "\n",
    "def add_new_country(country_visited, times_visited, cities_visited):\n",
    "    # new_country = {\n",
    "    #     \"country\": country_visited,\n",
    "    #     \"visits\": times_visited,\n",
    "    #     \"cities\": cities_visited\n",
    "    # }\n",
    "\n",
    "    new_country = {}\n",
    "    new_country[\"country\"] = country_visited\n",
    "    new_country[\"visits\"] = times_visited\n",
    "    new_country[\"cities\"] = cities_visited\n",
    "\n",
    "    travel_log.append(new_country)\n",
    "\n",
    "\n",
    "#🚨 Do not change the code below\n",
    "add_new_country(\"Russia\", 2, [\"Moscow\", \"Saint Petersburg\"])\n",
    "print(travel_log)\n"
   ]
  },
  {
   "cell_type": "markdown",
   "metadata": {},
   "source": [
    "96. Final Project: The Secret Auction Program "
   ]
  },
  {
   "cell_type": "code",
   "execution_count": 14,
   "metadata": {},
   "outputs": [
    {
     "name": "stdout",
     "output_type": "stream",
     "text": [
      "Steak\n"
     ]
    }
   ],
   "source": [
    "from replit import clear\n",
    "from art import logo\n",
    "\n",
    "print(logo)\n",
    "\n",
    "max_bid = 0\n",
    "other_bidder = \"y\"\n",
    "bids = {}\n",
    "\n",
    "\n",
    "while other_bidder == \"y\":\n",
    "    other_bidder = input(\"Are there a bidder who wants to bid? [y/n]: \").lower()\n",
    "\n",
    "    if other_bidder == \"y\":\n",
    "        clear()        \n",
    "        name = input(\"What's your name?: \")\n",
    "        price = int(input(\"What's your bid?: $\"))\n",
    "        bids[name] = price\n",
    "    elif other_bidder == \"n\":\n",
    "        for bidder in bids:\n",
    "            if bids[bidder] > max_bid:\n",
    "                max_bid = bids[bidder]\n",
    "                winner = bidder\n",
    "        print(f\"Winner bidder is {winner} with a bid of ${max_bid}.\")\n"
   ]
  },
  {
   "cell_type": "markdown",
   "metadata": {},
   "source": [
    "Teacher's Solution"
   ]
  },
  {
   "cell_type": "code",
   "execution_count": null,
   "metadata": {},
   "outputs": [],
   "source": [
    "from replit import clear\n",
    "from art import logo\n",
    "\n",
    "print(logo)\n",
    "\n",
    "bids = {}\n",
    "bidding_finished = False\n",
    "\n",
    "\n",
    "def find_highest_bidder(bidding_record):\n",
    "    highest_bid = 0\n",
    "    for bidder in bidding_record:\n",
    "        bid_amount = bidding_record[bidder]\n",
    "        if bid_amount > highest_bid:\n",
    "            highest_bid = bid_amount\n",
    "            winner = bidder\n",
    "    print(f\"The winner is {winner} with the highest bid of ${highest_bid}\")\n",
    "\n",
    "\n",
    "while not bidding_finished:\n",
    "    name = input(\"What's your name?: \")\n",
    "    price = int(input(\"What's your bid?: $\"))\n",
    "    bids[name] = price\n",
    "    should_continue = input(\"Are there any bidders? Type 'yes' or 'no' \")\n",
    "    if should_continue == \"no\":\n",
    "        bidding_finished = True\n",
    "        find_highest_bidder(bids)\n",
    "    elif should_continue == \"yes\":\n",
    "        clear()"
   ]
  }
 ],
 "metadata": {
  "kernelspec": {
   "display_name": "Python 3.10.6 64-bit",
   "language": "python",
   "name": "python3"
  },
  "language_info": {
   "codemirror_mode": {
    "name": "ipython",
    "version": 3
   },
   "file_extension": ".py",
   "mimetype": "text/x-python",
   "name": "python",
   "nbconvert_exporter": "python",
   "pygments_lexer": "ipython3",
   "version": "3.10.6"
  },
  "orig_nbformat": 4,
  "vscode": {
   "interpreter": {
    "hash": "027efd7095115064582efab50921964d678032cf36f1ec215c675cf4ffc5e6b9"
   }
  }
 },
 "nbformat": 4,
 "nbformat_minor": 2
}
