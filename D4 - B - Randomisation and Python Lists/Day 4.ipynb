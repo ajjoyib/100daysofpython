{
 "cells": [
  {
   "cell_type": "markdown",
   "metadata": {},
   "source": [
    "41. Random Module"
   ]
  },
  {
   "cell_type": "code",
   "execution_count": 42,
   "metadata": {},
   "outputs": [
    {
     "name": "stdout",
     "output_type": "stream",
     "text": [
      "4\n",
      "6\n",
      "3.1415\n"
     ]
    }
   ],
   "source": [
    "import random\n",
    "import my_module\n",
    "\n",
    "random_integer = random.randint(1,10)\n",
    "print(random_integer)\n",
    "\n",
    "random_float = round(random.random()*10)\n",
    "print(random_float)\n",
    "\n",
    "print(my_module.pi)"
   ]
  },
  {
   "cell_type": "markdown",
   "metadata": {},
   "source": [
    "42. [Interactive Coding Exercise] Heads or Tails"
   ]
  },
  {
   "cell_type": "code",
   "execution_count": 43,
   "metadata": {},
   "outputs": [
    {
     "name": "stdout",
     "output_type": "stream",
     "text": [
      "Heads\n"
     ]
    }
   ],
   "source": [
    "random_n = random.randint(0,1)\n",
    "\n",
    "if random_n == 1:\n",
    "    print(\"Heads\")\n",
    "else:\n",
    "    print(\"Tails\")"
   ]
  },
  {
   "cell_type": "markdown",
   "metadata": {},
   "source": [
    "43. Understanding the Offset and Appending Items to Lists"
   ]
  },
  {
   "cell_type": "code",
   "execution_count": 61,
   "metadata": {},
   "outputs": [
    {
     "name": "stdout",
     "output_type": "stream",
     "text": [
      "Pennsylvania\n",
      "Indiana\n",
      "Missouri\n"
     ]
    }
   ],
   "source": [
    "states_of_america = [\"Delaware\", \"Pennsylvania\", \"New Jersey\", \n",
    "\"Georgia\", \"Connecticut\", \"Massachusetts\", \"Maryland\", \"South Caroline\", \n",
    "\"New Hampshire\", \"Virginia\", \"New York\", \"North Caroline\", \"Rhode Island\", \n",
    "\"Vermont\", \"Kentucky\", \"Tennessee\", \"Ohio\", \"Lousiana\", \"Indiana\", \n",
    "\"Mississippi\", \"Illinois\", \"Alabama\", \"Maine\", \"Missouri\", \"Arkansas\", \n",
    "\"Michigan\", \"Florida\", \"Texas\", \"Iowa\", \"Wisconsin\", \"California\", \"Minnesota\", \n",
    "\"Oregon\", \"Kansas\", \"West Virginia\", \"Nevada\", \"Nebraska\", \"Colorado\", \n",
    "\"North Dakota\", \"South Dakota\", \"Montana\", \"Washington\", \"Idaho\", \n",
    "\"Wyoming\", \"Utah\", \"Oklahoma\", \"New Mexico\", \"Arizona\", \"Alaska\", \"Hawaii\"]\n",
    "\n",
    "print(states_of_america[random.randint(0,3)])\n",
    "\n",
    "# adding an item to the end of the list\n",
    "states_of_america.append(\"Indiana\")\n",
    "print(states_of_america[-1])\n",
    "\n",
    "# extending the lists with another list\n",
    "states_of_america.extend([\"Mississippi\", \"Illinois\", \"Alabama\", \"Maine\", \"Missouri\"])\n",
    "print(states_of_america[-1])\n"
   ]
  },
  {
   "cell_type": "markdown",
   "metadata": {},
   "source": [
    "44. [Interactive Coding Exercise] Banker Roulette - Who will pay the bill?"
   ]
  },
  {
   "cell_type": "code",
   "execution_count": 71,
   "metadata": {},
   "outputs": [
    {
     "name": "stdout",
     "output_type": "stream",
     "text": [
      "Uar is going to pay for today's meal...\n"
     ]
    }
   ],
   "source": [
    "import random\n",
    "from unicodedata import name\n",
    "# ***\n",
    "names_string = input(\"Give me everybody's name, separated by a comma... \")\n",
    "names = names_string.split(\", \")\n",
    "\n",
    "chosen_one = names[random.randint(0, len(names)-1)]\n",
    "\n",
    "print(f\"{chosen_one} is going to pay for today's meal...\")"
   ]
  },
  {
   "cell_type": "markdown",
   "metadata": {},
   "source": [
    "45. IndexErrors and Working with Nested Lists"
   ]
  },
  {
   "cell_type": "markdown",
   "metadata": {},
   "source": [
    "46. [Interactive Coding Exercise] Treasure Map"
   ]
  },
  {
   "cell_type": "code",
   "execution_count": 93,
   "metadata": {},
   "outputs": [
    {
     "name": "stdout",
     "output_type": "stream",
     "text": [
      "['⬜️', '⬜️', '⬜️']\n",
      "['⬜️', '⬜️', '⬜️']\n",
      "['⬜️', '⬜️', '⬜️']\n",
      "--------------------\n",
      "['⬜️', '⬜️', '⬜️']\n",
      "['⬜️', '⬜️', '⬜️']\n",
      "['⭐', '⬜️', '⬜️']\n"
     ]
    }
   ],
   "source": [
    "row1 = [\"⬜️\",\"⬜️\",\"⬜️\"]\n",
    "row2 = [\"⬜️\",\"⬜️\",\"⬜️\"]\n",
    "row3 = [\"⬜️\",\"⬜️\",\"⬜️\"]\n",
    "\n",
    "map = [row1, row2, row3]\n",
    "\n",
    "print(f\"{row1}\\n{row2}\\n{row3}\\n--------------------\")\n",
    "\n",
    "position = input(\"Where do you want to put the treasure? \")\n",
    "ver = int(position[0])-1\n",
    "hor = int(position[1])-1\n",
    "map[ver][hor] = \"⭐\"\n",
    "\n",
    "print(f\"{row1}\\n{row2}\\n{row3}\")"
   ]
  },
  {
   "cell_type": "markdown",
   "metadata": {},
   "source": [
    "47. Day 4 Project: Rock Paper Scissors"
   ]
  },
  {
   "cell_type": "code",
   "execution_count": 5,
   "metadata": {},
   "outputs": [
    {
     "name": "stdout",
     "output_type": "stream",
     "text": [
      "YOU ENTERED AN INVALID NUMBER...\n"
     ]
    }
   ],
   "source": [
    "import random\n",
    "# ***\n",
    "\n",
    "rock = '''\n",
    "    _______\n",
    "---'   ____)\n",
    "      (_____)\n",
    "      (_____)\n",
    "      (____)\n",
    "---.__(___)\n",
    "'''\n",
    "\n",
    "paper = '''\n",
    "    _______\n",
    "---'   ____)____\n",
    "          ______)\n",
    "          _______)\n",
    "         _______)\n",
    "---.__________)\n",
    "'''\n",
    "\n",
    "scissors = '''\n",
    "    _______\n",
    "---'   ____)____\n",
    "          ______)\n",
    "       __________)\n",
    "      (____)\n",
    "---.__(___)\n",
    "'''\n",
    "\n",
    "game_variables = [rock, paper, scissors]\n",
    "\n",
    "user_choice = int(input(\"Please make your choice. 0 for rock, 1 for paper and 2 for scissors...\"))\n",
    "auto_choice = random.randint(0,2)\n",
    "\n",
    "\n",
    "if user_choice >= 3 or user_choice < 0:\n",
    "    print(\"YOU ENTERED AN INVALID NUMBER...\")\n",
    "else:\n",
    "    print(f\"User's choice: {game_variables[user_choice]} \\n Auto choice: {game_variables[auto_choice]}\")\n",
    "    if user_choice == 0 and auto_choice == 2:\n",
    "        print(\"YOU WIN!\")\n",
    "    elif user_choice == 2 and auto_choice == 0:\n",
    "        print(\"YOU LOSE!\")\n",
    "    elif user_choice > auto_choice:\n",
    "        print(\"YOU WIN!\")\n",
    "    elif user_choice < auto_choice:\n",
    "        print(\"YOU LOSE!\")\n",
    "    elif user_choice == auto_choice:\n",
    "        print(\"!!! DRAW !!!\")\n",
    "\n",
    "\n",
    "\n"
   ]
  }
 ],
 "metadata": {
  "kernelspec": {
   "display_name": "Python 3.10.6 64-bit",
   "language": "python",
   "name": "python3"
  },
  "language_info": {
   "codemirror_mode": {
    "name": "ipython",
    "version": 3
   },
   "file_extension": ".py",
   "mimetype": "text/x-python",
   "name": "python",
   "nbconvert_exporter": "python",
   "pygments_lexer": "ipython3",
   "version": "3.10.6"
  },
  "orig_nbformat": 4,
  "vscode": {
   "interpreter": {
    "hash": "027efd7095115064582efab50921964d678032cf36f1ec215c675cf4ffc5e6b9"
   }
  }
 },
 "nbformat": 4,
 "nbformat_minor": 2
}
