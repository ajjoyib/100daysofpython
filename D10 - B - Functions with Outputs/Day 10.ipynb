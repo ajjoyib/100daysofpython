{
 "cells": [
  {
   "cell_type": "markdown",
   "metadata": {},
   "source": [
    "99. Functions with Outputs"
   ]
  },
  {
   "cell_type": "code",
   "execution_count": 3,
   "metadata": {},
   "outputs": [
    {
     "name": "stdout",
     "output_type": "stream",
     "text": [
      "Angela Yu\n"
     ]
    }
   ],
   "source": [
    "# Function with Outputs\n",
    "\n",
    "def format_name(f_name, l_name):\n",
    "    formatted_f_name = f_name.title()\n",
    "    formatted_l_name = l_name.title()\n",
    "    return f\"{formatted_f_name} {formatted_l_name}\"\n",
    "\n",
    "print(format_name(\"AnGELa\", \"yU\"))"
   ]
  },
  {
   "cell_type": "markdown",
   "metadata": {},
   "source": [
    "100. Multiple return values"
   ]
  },
  {
   "cell_type": "code",
   "execution_count": 6,
   "metadata": {},
   "outputs": [
    {
     "name": "stdout",
     "output_type": "stream",
     "text": [
      "You didn't provide a valid input.\n"
     ]
    }
   ],
   "source": [
    "def format_name(f_name, l_name):\n",
    "    if f_name == \"\" or l_name == \"\":\n",
    "        return \"You didn't provide a valid input.\"\n",
    "    formatted_f_name = f_name.title()\n",
    "    formatted_l_name = l_name.title()\n",
    "    return f\"Result: {formatted_f_name} {formatted_l_name}\"\n",
    "\n",
    "print(format_name(input(\"What's your first name? \"), input(\"What's your last name? \")))"
   ]
  },
  {
   "cell_type": "markdown",
   "metadata": {},
   "source": [
    "101. [Interactive Coding Exercise] Days in Month"
   ]
  },
  {
   "cell_type": "code",
   "execution_count": 8,
   "metadata": {},
   "outputs": [
    {
     "name": "stdout",
     "output_type": "stream",
     "text": [
      "29\n"
     ]
    }
   ],
   "source": [
    "def is_leap(year):\n",
    "  if year % 4 == 0:\n",
    "    if year % 100 == 0:\n",
    "      if year % 400 == 0:\n",
    "        return True\n",
    "      else:\n",
    "        return False\n",
    "    else:\n",
    "      return True\n",
    "  else:\n",
    "    return False\n",
    "\n",
    "def days_in_month(year, month):\n",
    "    month_days = [31, 28, 31, 30, 31, 30, 31, 31, 30, 31, 30, 31]  \n",
    "\n",
    "    if is_leap(year) and month == 2:\n",
    "      return 29\n",
    "  \n",
    "  \n",
    "#🚨 Do NOT change any of the code below \n",
    "year = int(input(\"Enter a year: \"))\n",
    "month = int(input(\"Enter a month: \"))\n",
    "days = days_in_month(year, month)\n",
    "print(days)"
   ]
  },
  {
   "cell_type": "markdown",
   "metadata": {},
   "source": [
    "102. Docstrings"
   ]
  },
  {
   "cell_type": "code",
   "execution_count": null,
   "metadata": {},
   "outputs": [],
   "source": [
    "def formatted_name(f_name, l_name):\n",
    "    \"\"\"Take a first and last name and format it to return the title case version of the name.\"\"\"\n",
    "\n",
    "    if f_name == \"\" or l_name == \"\":\n",
    "        return \"You didn't provide a valid input.\"\n",
    "    formatted_f_name = f_name.title()\n",
    "    formatted_l_name = l_name.title()\n",
    "    return f\"Result: {formatted_f_name} {formatted_l_name}\"\n",
    "\n",
    "# Already used functions with outputs.\n",
    "length = len(formatted_name)\n",
    "\n",
    "\n",
    "# Return as an early exit\n"
   ]
  },
  {
   "cell_type": "markdown",
   "metadata": {},
   "source": [
    "103. Calculator Part 1: Combining Dictionaries and Functions"
   ]
  },
  {
   "cell_type": "code",
   "execution_count": null,
   "metadata": {},
   "outputs": [],
   "source": [
    "# Calculator\n",
    "\n",
    "# Add\n",
    "def add(a, b):\n",
    "    return a + b\n",
    "\n",
    "# Subtract\n",
    "def subtract(a, b):\n",
    "    return a - b\n",
    "\n",
    "# Multiply\n",
    "def multiply(a, b):\n",
    "    return a * b\n",
    "\n",
    "# Divide\n",
    "def divide(a, b):\n",
    "    return a / b\n",
    "\n",
    "# Create a dictionary storing names of the functions above as values\n",
    "operations = {\n",
    "    \"+\": add,\n",
    "    \"-\": subtract,\n",
    "    \"*\": multiply, \n",
    "    \"/\": divide\n",
    "}\n",
    "\n",
    "\n",
    "num1 = int(input(\"What's the first number?: \"))\n",
    "for symbol in operations:\n",
    "    print(symbol)\n",
    "operation_symbol = input(\"Pick an operation from the list above: \")\n",
    "num2 = int(input(\"What's the second number?: \"))\n",
    "calculation_function = operations[operation_symbol]\n",
    "answer = calculation_function(num1, num2)\n",
    "\n",
    "print(f\"{num1} {operation_symbol} {num2} = {answer}\")"
   ]
  },
  {
   "cell_type": "markdown",
   "metadata": {},
   "source": [
    "104. Print vs Return"
   ]
  },
  {
   "cell_type": "code",
   "execution_count": 1,
   "metadata": {},
   "outputs": [
    {
     "name": "stdout",
     "output_type": "stream",
     "text": [
      "+\n",
      "-\n",
      "*\n",
      "/\n",
      "2 + 6 = 8\n",
      "8 * 5 = 40\n"
     ]
    }
   ],
   "source": [
    "# CALCULATOR\n",
    "\n",
    "# Add\n",
    "def add(a, b):\n",
    "    return a + b\n",
    "# Subtract\n",
    "def subtract(a, b):\n",
    "    return a - b\n",
    "# Multiply\n",
    "def multiply(a, b):\n",
    "    return a * b\n",
    "# Divide\n",
    "def divide(a, b):\n",
    "    return a / b\n",
    "\n",
    "# Create a dictionary storing names of the functions above as values\n",
    "operations = {\n",
    "    \"+\": add,\n",
    "    \"-\": subtract,\n",
    "    \"*\": multiply, \n",
    "    \"/\": divide\n",
    "}\n",
    "\n",
    "\n",
    "num1 = int(input(\"What's the first number?: \"))\n",
    "for symbol in operations:\n",
    "    print(symbol)\n",
    "operation_symbol = input(\"Pick an operation from the list above: \")\n",
    "num2 = int(input(\"What's the second number?: \"))\n",
    "calculation_function = operations[operation_symbol]\n",
    "first_answer = calculation_function(num1, num2)\n",
    "\n",
    "print(f\"{num1} {operation_symbol} {num2} = {first_answer}\")\n",
    "\n",
    "operation_symbol = input(\"Pick another operation: \")\n",
    "num3 = int(input(\"What's the next number?: \"))\n",
    "calculation_function = operations[operation_symbol]\n",
    "second_answer = calculation_function(first_answer, num3)\n",
    "\n",
    "print(f\"{first_answer} {operation_symbol} {num3} = {second_answer}\")"
   ]
  },
  {
   "cell_type": "markdown",
   "metadata": {},
   "source": [
    "105. While Loops, Flags and Recursion"
   ]
  },
  {
   "cell_type": "code",
   "execution_count": 5,
   "metadata": {},
   "outputs": [
    {
     "name": "stdout",
     "output_type": "stream",
     "text": [
      "+\n",
      "-\n",
      "*\n",
      "/\n",
      "5 + 5 = 10\n",
      "100 * 10 = 100\n",
      "100 * 10 = 100\n"
     ]
    }
   ],
   "source": [
    "# CALCULATOR\n",
    "\n",
    "# Add\n",
    "def add(a, b):\n",
    "    return a + b\n",
    "# Subtract\n",
    "def subtract(a, b):\n",
    "    return a - b\n",
    "# Multiply\n",
    "def multiply(a, b):\n",
    "    return a * b\n",
    "# Divide\n",
    "def divide(a, b):\n",
    "    return a / b\n",
    "\n",
    "# Create a dictionary storing names of the functions above as values\n",
    "operations = {\n",
    "    \"+\": add,\n",
    "    \"-\": subtract,\n",
    "    \"*\": multiply, \n",
    "    \"/\": divide\n",
    "}\n",
    "\n",
    "stop_calculation = False\n",
    "\n",
    "    \n",
    "num1 = int(input(\"What's the first number?: \"))\n",
    "for symbol in operations:\n",
    "    print(symbol)\n",
    "operation_symbol = input(\"Pick an operation from the list above: \")\n",
    "num2 = int(input(\"What's the second number?: \"))\n",
    "calculation_function = operations[operation_symbol]\n",
    "answer = calculation_function(num1, num2)\n",
    "\n",
    "print(f\"{num1} {operation_symbol} {num2} = {answer}\")\n",
    "\n",
    "while not stop_calculation:\n",
    "    want_to_continue = input(f\"Type 'y' to continue the calculation with {answer}, or type 'n' to exit: \")\n",
    "    if want_to_continue == \"n\":\n",
    "        stop_calculation = True\n",
    "    else:\n",
    "        operation_symbol = input(\"Pick another operation: \")\n",
    "        another_num = int(input(\"What's the next number?: \"))\n",
    "        calculation_function = operations[operation_symbol]\n",
    "        answer = calculation_function(answer, another_num)\n",
    "\n",
    "    print(f\"{answer} {operation_symbol} {another_num} = {answer}\")"
   ]
  },
  {
   "cell_type": "markdown",
   "metadata": {},
   "source": [
    "Angela Yu's answer to the question above"
   ]
  },
  {
   "cell_type": "code",
   "execution_count": 6,
   "metadata": {},
   "outputs": [
    {
     "name": "stdout",
     "output_type": "stream",
     "text": [
      "\n",
      " _____________________\n",
      "|  _________________  |\n",
      "| | Pythonista   0. | |  .----------------.  .----------------.  .----------------.  .----------------. \n",
      "| |_________________| | | .--------------. || .--------------. || .--------------. || .--------------. |\n",
      "|  ___ ___ ___   ___  | | |     ______   | || |      __      | || |   _____      | || |     ______   | |\n",
      "| | 7 | 8 | 9 | | + | | | |   .' ___  |  | || |     /  \\     | || |  |_   _|     | || |   .' ___  |  | |\n",
      "| |___|___|___| |___| | | |  / .'   \\_|  | || |    / /\\ \\    | || |    | |       | || |  / .'   \\_|  | |\n",
      "| | 4 | 5 | 6 | | - | | | |  | |         | || |   / ____ \\   | || |    | |   _   | || |  | |         | |\n",
      "| |___|___|___| |___| | | |  \\ `.___.'\\  | || | _/ /    \\ \\_ | || |   _| |__/ |  | || |  \\ `.___.'\\  | |\n",
      "| | 1 | 2 | 3 | | x | | | |   `._____.'  | || ||____|  |____|| || |  |________|  | || |   `._____.'  | |\n",
      "| |___|___|___| |___| | | |              | || |              | || |              | || |              | |\n",
      "| | . | 0 | = | | / | | | '--------------' || '--------------' || '--------------' || '--------------' |\n",
      "| |___|___|___| |___| |  '----------------'  '----------------'  '----------------'  '----------------' \n",
      "|_____________________|\n",
      "\n"
     ]
    },
    {
     "ename": "ValueError",
     "evalue": "could not convert string to float: ''",
     "output_type": "error",
     "traceback": [
      "\u001b[1;31m---------------------------------------------------------------------------\u001b[0m",
      "\u001b[1;31mValueError\u001b[0m                                Traceback (most recent call last)",
      "Cell \u001b[1;32mIn [6], line 46\u001b[0m\n\u001b[0;32m     43\u001b[0m             should_continue \u001b[38;5;241m=\u001b[39m \u001b[38;5;28;01mFalse\u001b[39;00m\n\u001b[0;32m     44\u001b[0m             calculator()\n\u001b[1;32m---> 46\u001b[0m \u001b[43mcalculator\u001b[49m\u001b[43m(\u001b[49m\u001b[43m)\u001b[49m\n",
      "Cell \u001b[1;32mIn [6], line 27\u001b[0m, in \u001b[0;36mcalculator\u001b[1;34m()\u001b[0m\n\u001b[0;32m     25\u001b[0m \u001b[38;5;28;01mdef\u001b[39;00m \u001b[38;5;21mcalculator\u001b[39m():\n\u001b[0;32m     26\u001b[0m     \u001b[38;5;28mprint\u001b[39m(logo)   \n\u001b[1;32m---> 27\u001b[0m     num1 \u001b[38;5;241m=\u001b[39m \u001b[38;5;28;43mfloat\u001b[39;49m\u001b[43m(\u001b[49m\u001b[38;5;28;43minput\u001b[39;49m\u001b[43m(\u001b[49m\u001b[38;5;124;43m\"\u001b[39;49m\u001b[38;5;124;43mWhat\u001b[39;49m\u001b[38;5;124;43m'\u001b[39;49m\u001b[38;5;124;43ms the first number?: \u001b[39;49m\u001b[38;5;124;43m\"\u001b[39;49m\u001b[43m)\u001b[49m\u001b[43m)\u001b[49m\n\u001b[0;32m     28\u001b[0m     \u001b[38;5;28;01mfor\u001b[39;00m symbol \u001b[38;5;129;01min\u001b[39;00m operations:\n\u001b[0;32m     29\u001b[0m         \u001b[38;5;28mprint\u001b[39m(symbol)\n",
      "\u001b[1;31mValueError\u001b[0m: could not convert string to float: ''"
     ]
    }
   ],
   "source": [
    "# CALCULATOR\n",
    "from art import logo\n",
    "# Add\n",
    "def add(a, b):\n",
    "    return a + b\n",
    "# Subtract\n",
    "def subtract(a, b):\n",
    "    return a - b\n",
    "# Multiply\n",
    "def multiply(a, b):\n",
    "    return a * b\n",
    "# Divide\n",
    "def divide(a, b):\n",
    "    return a / b\n",
    "\n",
    "# Create a dictionary storing names of the functions above as values\n",
    "operations = {\n",
    "    \"+\": add,\n",
    "    \"-\": subtract,\n",
    "    \"*\": multiply, \n",
    "    \"/\": divide\n",
    "}\n",
    "\n",
    "\n",
    "def calculator():\n",
    "    print(logo)   \n",
    "    num1 = float(input(\"What's the first number?: \"))\n",
    "    for symbol in operations:\n",
    "        print(symbol)\n",
    "    should_continue = True\n",
    "\n",
    "    while should_continue:\n",
    "        operation_symbol = input(\"Pick an operation: \")\n",
    "        num2 = float(input(\"What's the next number?: \"))\n",
    "        calculation_function = operations[operation_symbol]\n",
    "        answer = calculation_function(num1, num2)\n",
    "\n",
    "        print(f\"{num1} {operation_symbol} {num2} = {answer}\")\n",
    "\n",
    "        if input(f\"Type 'y' to continue calculating with {answer}, or type 'n' to start a new calculation.: \") == \"y\":\n",
    "            num1 = answer\n",
    "        else:\n",
    "            should_continue = False\n",
    "            calculator()\n",
    "\n",
    "calculator()\n"
   ]
  },
  {
   "cell_type": "markdown",
   "metadata": {},
   "source": [
    "106. Calculator Finishing Touches and Bug Fixes"
   ]
  },
  {
   "cell_type": "code",
   "execution_count": null,
   "metadata": {},
   "outputs": [],
   "source": []
  }
 ],
 "metadata": {
  "kernelspec": {
   "display_name": "Python 3.10.6 64-bit",
   "language": "python",
   "name": "python3"
  },
  "language_info": {
   "codemirror_mode": {
    "name": "ipython",
    "version": 3
   },
   "file_extension": ".py",
   "mimetype": "text/x-python",
   "name": "python",
   "nbconvert_exporter": "python",
   "pygments_lexer": "ipython3",
   "version": "3.10.6"
  },
  "orig_nbformat": 4,
  "vscode": {
   "interpreter": {
    "hash": "027efd7095115064582efab50921964d678032cf36f1ec215c675cf4ffc5e6b9"
   }
  }
 },
 "nbformat": 4,
 "nbformat_minor": 2
}
